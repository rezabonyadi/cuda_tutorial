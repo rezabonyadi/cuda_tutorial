{
 "cells": [
  {
   "cell_type": "code",
   "execution_count": 1,
   "metadata": {},
   "outputs": [
    {
     "output_type": "stream",
     "name": "stdout",
     "text": "# conda environments:\n#\n                         C:\\Program Files\\Orange\nbase                     C:\\ProgramData\\Anaconda3\ncar_speed_env            C:\\ProgramData\\Anaconda3\\envs\\car_speed_env\ncuda_tut_env             C:\\ProgramData\\Anaconda3\\envs\\cuda_tut_env\nsummarizer1           *  C:\\ProgramData\\Anaconda3\\envs\\summarizer1\nuntitled                 C:\\ProgramData\\Anaconda3\\envs\\untitled\nfinance_dashboard        C:\\Users\\Reza\\.conda\\envs\\finance_dashboard\nsherlock                 C:\\Users\\Reza\\.conda\\envs\\sherlock\nvocal                    C:\\Users\\Reza\\.conda\\envs\\vocal\n\n"
    }
   ],
   "source": [
    "!conda env list\n",
    "!conda activate summarizer1"
   ]
  },
  {
   "cell_type": "code",
   "execution_count": 1,
   "metadata": {},
   "outputs": [
    {
     "output_type": "stream",
     "name": "stdout",
     "text": "# packages in environment at C:\\ProgramData\\Anaconda3:\n#\n# Name                    Version                   Build  Channel\n_ipyw_jlab_nb_ext_conf    0.1.0                    py37_0  \nalabaster                 0.7.12                   py37_0  \nanaconda                  2020.02                  py37_0  \nanaconda-client           1.7.2                    py37_0  \nanaconda-navigator        1.9.12                   py37_0  \nanaconda-project          0.8.4                      py_0  \nargh                      0.26.2                   py37_0  \nasn1crypto                1.3.0                    py37_0  \nastroid                   2.3.3                    py37_0  \nastropy                   4.0              py37he774522_0  \natomicwrites              1.3.0                    py37_1  \nattrs                     19.3.0                     py_0  \nautopep8                  1.4.4                      py_0  \nbabel                     2.8.0                      py_0  \nbackcall                  0.1.0                    py37_0  \nbackports                 1.0                        py_2  \nbackports.functools_lru_cache 1.6.1                      py_0  \nbackports.shutil_get_terminal_size 1.0.0                    py37_2  \nbackports.tempfile        1.0                        py_1  \nbackports.weakref         1.0.post1                  py_1  \nbcrypt                    3.1.7            py37he774522_0  \nbeautifulsoup4            4.8.2                    py37_0  \nbitarray                  1.2.1            py37he774522_0  \nbkcharts                  0.2                      py37_0  \nblas                      1.0                         mkl  \nbleach                    3.1.0                    py37_0  \nblosc                     1.16.3               h7bd577a_0  \nbokeh                     1.4.0                    py37_0  \nboto                      2.49.0                   py37_0  \nbottleneck                1.3.2            py37h2a96729_0  \nbzip2                     1.0.8                he774522_0  \nca-certificates           2020.1.1                      0  \ncertifi                   2019.11.28               py37_0  \ncffi                      1.14.0           py37h7a1dbc1_0  \nchardet                   3.0.4                 py37_1003  \nclick                     7.0                      py37_0  \ncloudpickle               1.3.0                      py_0  \nclyent                    1.2.2                    py37_1  \ncolorama                  0.4.3                      py_0  \ncomtypes                  1.1.7                    py37_0  \nconda                     4.8.3            py37hc8dfbb8_1    conda-forge\nconda-build               3.18.11                  py37_0  \nconda-env                 2.6.0                         1  \nconda-package-handling    1.6.0            py37h62dcd97_0  \nconda-verify              3.4.2                      py_1  \nconsole_shortcut          0.1.1                         4  \ncontextlib2               0.6.0.post1                py_0  \ncryptography              2.8              py37h7a1dbc1_0  \ncudatoolkit               9.0                           1  \ncurl                      7.68.0               h2a8f88b_0  \ncycler                    0.10.0                   py37_0  \ncython                    0.29.15          py37ha925a31_0  \ncytoolz                   0.10.1           py37he774522_0  \ndask                      2.11.0                     py_0  \ndask-core                 2.11.0                     py_0  \ndecorator                 4.4.1                      py_0  \ndefusedxml                0.6.0                      py_0  \ndiff-match-patch          20181111                   py_0  \ndistributed               2.11.0                   py37_0  \ndocutils                  0.16                     py37_0  \nentrypoints               0.3                      py37_0  \net_xmlfile                1.0.1                    py37_0  \nfastcache                 1.1.0            py37he774522_0  \nfilelock                  3.0.12                     py_0  \nflake8                    3.7.9                    py37_0  \nflask                     1.1.1                      py_0  \nfreetype                  2.9.1                ha9979f8_1  \nfsspec                    0.6.2                      py_0  \nfuture                    0.18.2                   py37_0  \nget_terminal_size         1.0.0                h38e98db_0  \ngevent                    1.4.0            py37he774522_0  \nglob2                     0.7                        py_0  \ngreenlet                  0.4.15           py37hfa6e2cd_0  \nh5py                      2.10.0           py37h5e291fa_0  \nhdf5                      1.10.4               h7ebc959_0  \nheapdict                  1.0.1                      py_0  \nhtml5lib                  1.0.1                    py37_0  \nhypothesis                5.5.4                      py_0  \nicc_rt                    2019.0.0             h0cc432a_1  \nicu                       58.2                 ha66f8fd_1  \nidna                      2.8                      py37_0  \nimageio                   2.6.1                    py37_0  \nimagesize                 1.2.0                      py_0  \nimportlib_metadata        1.5.0                    py37_0  \nintel-openmp              2020.0                      166  \nintervaltree              3.0.2                      py_0  \nipykernel                 5.1.4            py37h39e3cac_0  \nipython                   7.12.0           py37h5ca1d4c_0  \nipython_genutils          0.2.0                    py37_0  \nipywidgets                7.5.1                      py_0    conda-forge\nisort                     4.3.21                   py37_0  \nitsdangerous              1.1.0                    py37_0  \njdcal                     1.4.1                      py_0  \njedi                      0.14.1                   py37_0  \njinja2                    2.11.1                     py_0  \njoblib                    0.14.1                     py_0  \njpeg                      9b                   hb83a4c4_2  \njson5                     0.9.1                      py_0  \njsonschema                3.2.0                    py37_0  \njupyter                   1.0.0                    py37_7  \njupyter_client            5.3.4                    py37_0  \njupyter_console           6.1.0                      py_0  \njupyter_core              4.6.1                    py37_0  \njupyterlab                1.2.6              pyhf63ae98_0  \njupyterlab_server         1.0.6                      py_0  \nkeyring                   21.1.0                   py37_0  \nkiwisolver                1.1.0            py37ha925a31_0  \nkrb5                      1.17.1               hc04afaa_0  \nlazy-object-proxy         1.4.3            py37he774522_0  \nlibarchive                3.3.3                h0643e63_5  \nlibcurl                   7.68.0               h2a8f88b_0  \nlibiconv                  1.15                 h1df5818_7  \nliblief                   0.9.0                ha925a31_2  \nlibpng                    1.6.37               h2a8f88b_0  \nlibsodium                 1.0.16               h9d3ae62_0  \nlibspatialindex           1.9.3                h33f27b4_0  \nlibssh2                   1.8.2                h7a1dbc1_0  \nlibtiff                   4.1.0                h56a325e_0  \nlibxml2                   2.9.9                h464c3ec_0  \nlibxslt                   1.1.33               h579f668_0  \nllvmlite                  0.31.0           py37ha925a31_0  \nlocket                    0.2.0                    py37_1  \nlxml                      4.5.0            py37h1350720_0  \nlz4-c                     1.8.1.2              h2fa13f4_0  \nlzo                       2.10                 h6df0209_2  \nm2w64-gcc-libgfortran     5.3.0                         6  \nm2w64-gcc-libs            5.3.0                         7  \nm2w64-gcc-libs-core       5.3.0                         7  \nm2w64-gmp                 6.1.0                         2  \nm2w64-libwinpthread-git   5.0.0.4634.697f757               2  \nmarkupsafe                1.1.1            py37he774522_0  \nmatplotlib                3.1.3                    py37_0  \nmatplotlib-base           3.1.3            py37h64f37c6_0  \nmccabe                    0.6.1                    py37_1  \nmenuinst                  1.4.16           py37he774522_0  \nmistune                   0.8.4            py37he774522_0  \nmkl                       2020.0                      166  \nmkl-service               2.3.0            py37hb782905_0  \nmkl_fft                   1.0.15           py37h14836fe_0  \nmkl_random                1.1.0            py37h675688f_0  \nmock                      4.0.1                      py_0  \nmore-itertools            8.2.0                      py_0  \nmpmath                    1.1.0                    py37_0  \nmsgpack-python            0.6.1            py37h74a9793_1  \nmsys2-conda-epoch         20160418                      1  \nmultipledispatch          0.6.0                    py37_0  \nnavigator-updater         0.2.1                    py37_0  \nnbconvert                 5.6.1                    py37_0  \nnbformat                  5.0.4                      py_0  \nnetworkx                  2.4                        py_0  \nnltk                      3.4.5                    py37_0  \nnose                      1.3.7                    py37_2  \nnotebook                  6.0.3                    py37_0  \nnumba                     0.48.0           py37h47e9c7a_0  \nnumexpr                   2.7.1            py37h25d0782_0  \nnumpy                     1.18.1           py37h93ca92e_0  \nnumpy-base                1.18.1           py37hc3f5095_1  \nnumpydoc                  0.9.2                      py_0  \nolefile                   0.46                     py37_0  \nopenpyxl                  3.0.3                      py_0  \nopenssl                   1.1.1d               he774522_4  \npackaging                 20.1                       py_0  \npandas                    1.0.1            py37h47e9c7a_0  \npandas-datareader         0.8.1                      py_0  \npandoc                    2.2.3.2                       0  \npandocfilters             1.4.2                    py37_1  \nparamiko                  2.7.1                      py_0  \nparso                     0.5.2                      py_0  \npartd                     1.1.0                      py_0  \npath                      13.1.0                   py37_0  \npath.py                   12.4.0                        0  \npathlib2                  2.3.5                    py37_0  \npathtools                 0.1.2                      py_1  \npatsy                     0.5.1                    py37_0  \npep8                      1.7.1                    py37_0  \npexpect                   4.8.0                    py37_0  \npickleshare               0.7.5                    py37_0  \npillow                    7.0.0            py37hcc1f983_0  \npip                       20.0.2                   py37_1  \npkginfo                   1.5.0.1                  py37_0  \npluggy                    0.13.1                   py37_0  \nply                       3.11                     py37_0  \npowershell_shortcut       0.0.1                         3  \nprometheus_client         0.7.1                      py_0  \nprompt_toolkit            3.0.3                      py_0  \npsutil                    5.6.7            py37he774522_0  \npy                        1.8.1                      py_0  \npy-lief                   0.9.0            py37ha925a31_2  \npycodestyle               2.5.0                    py37_0  \npycosat                   0.6.3            py37he774522_0  \npycparser                 2.19                     py37_0  \npycrypto                  2.6.1            py37hfa6e2cd_9  \npycurl                    7.43.0.5         py37h7a1dbc1_0  \npydocstyle                4.0.1                      py_0  \npyflakes                  2.1.1                    py37_0  \npygments                  2.5.2                      py_0  \npylint                    2.4.4                    py37_0  \npynacl                    1.3.0            py37h62dcd97_0  \npyodbc                    4.0.30           py37ha925a31_0  \npyopenssl                 19.1.0                   py37_0  \npyparsing                 2.4.6                      py_0  \npyqt                      5.9.2            py37h6538335_2  \npyreadline                2.1                      py37_1  \npyrsistent                0.15.7           py37he774522_0  \npysocks                   1.7.1                    py37_0  \npytables                  3.6.1            py37h1da0976_0  \npytest                    5.3.5                    py37_0  \npytest-arraydiff          0.3              py37h39e3cac_0  \npytest-astropy            0.8.0                      py_0  \npytest-astropy-header     0.1.2                      py_0  \npytest-doctestplus        0.5.0                      py_0  \npytest-openfiles          0.4.0                      py_0  \npytest-remotedata         0.3.2                    py37_0  \npython                    3.7.6                h60c2a47_2  \npython-dateutil           2.8.1                      py_0  \npython-jsonrpc-server     0.3.4                      py_0  \npython-language-server    0.31.7                   py37_0  \npython-libarchive-c       2.8                     py37_13  \npython_abi                3.7                     1_cp37m    conda-forge\npytz                      2019.3                     py_0  \npywavelets                1.1.1            py37he774522_0  \npywin32                   227              py37he774522_1  \npywin32-ctypes            0.2.0                 py37_1000  \npywinpty                  0.5.7                    py37_0  \npyyaml                    5.3              py37he774522_0  \npyzmq                     18.1.1           py37ha925a31_0  \nqdarkstyle                2.8                        py_0  \nqt                        5.9.7            vc14h73c81de_0  \nqtawesome                 0.6.1                      py_0  \nqtconsole                 4.6.0                      py_1  \nqtpy                      1.9.0                      py_0  \nrequests                  2.22.0                   py37_1  \nrope                      0.16.0                     py_0  \nrtree                     0.9.3            py37h21ff451_0  \nruamel_yaml               0.15.87          py37he774522_0  \nscikit-image              0.16.2           py37h47e9c7a_0  \nscikit-learn              0.22.1           py37h6288b17_0  \nscipy                     1.4.1            py37h9439919_0  \nseaborn                   0.10.0                     py_0  \nsend2trash                1.5.0                    py37_0  \nsetuptools                45.2.0                   py37_0  \nsimplegeneric             0.8.1                    py37_2  \nsingledispatch            3.4.0.3                  py37_0  \nsip                       4.19.8           py37h6538335_0  \nsix                       1.14.0                   py37_0  \nsnappy                    1.1.7                h777316e_3  \nsnowballstemmer           2.0.0                      py_0  \nsortedcollections         1.1.2                    py37_0  \nsortedcontainers          2.1.0                    py37_0  \nsoupsieve                 1.9.5                    py37_0  \nsphinx                    2.4.0                      py_0  \nsphinxcontrib             1.0                      py37_1  \nsphinxcontrib-applehelp   1.0.1                      py_0  \nsphinxcontrib-devhelp     1.0.1                      py_0  \nsphinxcontrib-htmlhelp    1.0.2                      py_0  \nsphinxcontrib-jsmath      1.0.1                      py_0  \nsphinxcontrib-qthelp      1.0.2                      py_0  \nsphinxcontrib-serializinghtml 1.1.3                      py_0  \nsphinxcontrib-websupport  1.2.0                      py_0  \nspyder                    4.0.1                    py37_0  \nspyder-kernels            1.8.1                    py37_0  \nsqlalchemy                1.3.13           py37he774522_0  \nsqlite                    3.31.1               he774522_0  \nstatsmodels               0.11.0           py37he774522_0  \nsympy                     1.5.1                    py37_0  \ntbb                       2020.0               h74a9793_0  \ntblib                     1.6.0                      py_0  \nterminado                 0.8.3                    py37_0  \ntestpath                  0.4.4                      py_0  \ntk                        8.6.8                hfa6e2cd_0  \ntoolz                     0.10.0                     py_0  \ntornado                   6.0.3            py37he774522_3  \ntqdm                      4.42.1                     py_0  \ntraitlets                 4.3.3                    py37_0  \nujson                     1.35             py37hfa6e2cd_0  \nunicodecsv                0.14.1                   py37_0  \nurllib3                   1.25.8                   py37_0  \nvc                        14.1                 h0510ff6_4  \nvs2015_runtime            14.16.27012          hf0eaf9b_1  \nwatchdog                  0.10.2                   py37_0  \nwcwidth                   0.1.8                      py_0  \nwebencodings              0.5.1                    py37_1  \nwerkzeug                  1.0.0                      py_0  \nwheel                     0.34.2                   py37_0  \nwidgetsnbextension        3.5.1                    py37_0  \nwin_inet_pton             1.1.0                    py37_0  \nwin_unicode_console       0.5                      py37_0  \nwincertstore              0.2                      py37_0  \nwinpty                    0.4.3                         4  \nwrapt                     1.11.2           py37he774522_0  \nxlrd                      1.2.0                    py37_0  \nxlsxwriter                1.2.7                      py_0  \nxlwings                   0.17.1                   py37_0  \nxlwt                      1.3.0                    py37_0  \nxmltodict                 0.12.0                     py_0  \nxz                        5.2.4                h2fa13f4_4  \nyaml                      0.1.7                hc54c509_2  \nyapf                      0.28.0                     py_0  \nzeromq                    4.3.1                h33f27b4_3  \nzict                      1.0.0                      py_0  \nzipp                      2.2.0                      py_0  \nzlib                      1.2.11               h62dcd97_3  \nzstd                      1.3.7                h508b16e_0  \n"
    }
   ],
   "source": [
    "!conda list"
   ]
  },
  {
   "cell_type": "code",
   "execution_count": 1,
   "metadata": {},
   "outputs": [],
   "source": [
    "import numpy as np\n",
    "size = 100000000"
   ]
  },
  {
   "cell_type": "code",
   "execution_count": 27,
   "metadata": {},
   "outputs": [],
   "source": [
    "a = np.ones(size)\n",
    "b = np.ones(size)\n",
    "c = np.ones(size)\n",
    "\n",
    "def operation(i, j):\n",
    "    return i+j\n",
    "\n",
    "def func_cpu(a, b):\n",
    "    res = np.ones(size)\n",
    "    for i in range(size):\n",
    "        res[i] = operation(a[i], b[i])\n",
    "    return res\n",
    "c = func_cpu(a, b)"
   ]
  },
  {
   "cell_type": "code",
   "execution_count": 28,
   "metadata": {},
   "outputs": [
    {
     "output_type": "stream",
     "name": "stdout",
     "text": "36.8 s ± 368 ms per loop (mean ± std. dev. of 7 runs, 1 loop each)\n"
    }
   ],
   "source": [
    "%timeit func_cpu(a, b)"
   ]
  },
  {
   "cell_type": "code",
   "execution_count": 29,
   "metadata": {},
   "outputs": [],
   "source": [
    "from numba import jit\n",
    "a = np.ones((size))\n",
    "b = np.ones((size))\n",
    "c = np.ones((size))\n",
    "\n",
    "@jit\n",
    "def operation(i, j):\n",
    "    return i+j\n",
    "\n",
    "@jit\n",
    "def func_jit(a, b):\n",
    "    res = np.ones((size))\n",
    "\n",
    "    for i in range(size):\n",
    "        res[i] = operation(a[i], b[i])\n",
    "    return res\n",
    "\n",
    "c = func_jit(a, b)"
   ]
  },
  {
   "cell_type": "code",
   "execution_count": 30,
   "metadata": {},
   "outputs": [
    {
     "output_type": "stream",
     "name": "stdout",
     "text": "374 ms ± 2.13 ms per loop (mean ± std. dev. of 7 runs, 1 loop each)\n"
    }
   ],
   "source": [
    "%timeit func_jit(a, b)"
   ]
  },
  {
   "cell_type": "code",
   "execution_count": 31,
   "metadata": {},
   "outputs": [
    {
     "output_type": "stream",
     "name": "stdout",
     "text": "<Managed Device 0>\nBlocks per grid: 3125000\nThreads per block 32\n"
    }
   ],
   "source": [
    "from numba import cuda\n",
    "print(cuda.gpus)\n",
    "\n",
    "device = cuda.get_current_device()\n",
    "tpb = device.WARP_SIZE\n",
    "\n",
    "bpg = int(np.ceil(float(size)/tpb))\n",
    "print('Blocks per grid:', bpg)\n",
    "print('Threads per block', tpb)"
   ]
  },
  {
   "cell_type": "code",
   "execution_count": 32,
   "metadata": {
    "scrolled": true
   },
   "outputs": [],
   "source": [
    "a = np.ones((size))\n",
    "b = np.ones((size))\n",
    "c = np.ones((size))\n",
    "\n",
    "@cuda.jit('void(f8[:],f8[:],f8[:])')\n",
    "def kernel(a, b, c):\n",
    "    i = cuda.grid(1)\n",
    "    c[i] = a[i]+b[i]\n",
    "\n",
    "\n",
    "def func_cuda(a, b, c):\n",
    "    kernel[bpg, tpb](a, b, c)   \n",
    "    res = c.copy_to_host()\n",
    "    return res\n",
    "\n",
    "device = cuda.get_current_device()\n",
    "\n",
    "da = cuda.to_device(a)\n",
    "db = cuda.to_device(b)\n",
    "dc = cuda.device_array_like(c)\n",
    "\n",
    "c = func_cuda(da, db, dc)\n"
   ]
  },
  {
   "cell_type": "code",
   "execution_count": 33,
   "metadata": {},
   "outputs": [
    {
     "output_type": "stream",
     "name": "stdout",
     "text": "439 ms ± 1.77 ms per loop (mean ± std. dev. of 7 runs, 1 loop each)\n"
    }
   ],
   "source": [
    "%timeit func_cuda(da, db, dc)"
   ]
  },
  {
   "cell_type": "code",
   "execution_count": null,
   "metadata": {},
   "outputs": [],
   "source": []
  }
 ],
 "metadata": {
  "kernelspec": {
   "display_name": "Python 3",
   "language": "python",
   "name": "python3"
  },
  "language_info": {
   "codemirror_mode": {
    "name": "ipython",
    "version": 3
   },
   "file_extension": ".py",
   "mimetype": "text/x-python",
   "name": "python",
   "nbconvert_exporter": "python",
   "pygments_lexer": "ipython3",
   "version": "3.6.9-final"
  }
 },
 "nbformat": 4,
 "nbformat_minor": 4
}