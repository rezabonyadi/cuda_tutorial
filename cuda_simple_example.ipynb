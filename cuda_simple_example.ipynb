{
 "cells": [
  {
   "cell_type": "code",
   "execution_count": 2,
   "metadata": {},
   "outputs": [
    {
     "output_type": "stream",
     "name": "stdout",
     "text": "# conda environments:\n#\nbase                  *  C:\\Users\\reza.bonyadi\\Anaconda3\ncar_speed_env            C:\\Users\\reza.bonyadi\\Anaconda3\\envs\\car_speed_env\ncuda_tut                 C:\\Users\\reza.bonyadi\\Anaconda3\\envs\\cuda_tut\ndash_ex                  C:\\Users\\reza.bonyadi\\Anaconda3\\envs\\dash_ex\nfinance                  C:\\Users\\reza.bonyadi\\Anaconda3\\envs\\finance\nfinance_dashboard        C:\\Users\\reza.bonyadi\\Anaconda3\\envs\\finance_dashboard\njournal_dashboard        C:\\Users\\reza.bonyadi\\Anaconda3\\envs\\journal_dashboard\nsherlock                 C:\\Users\\reza.bonyadi\\Anaconda3\\envs\\sherlock\n                         C:\\Users\\reza.bonyadi\\AppData\\Local\\Orange\n\n"
    }
   ],
   "source": [
    "!conda env list"
   ]
  },
  {
   "cell_type": "code",
   "execution_count": 12,
   "metadata": {},
   "outputs": [],
   "source": [
    "import numpy as np\n",
    "size = 10000"
   ]
  },
  {
   "cell_type": "code",
   "execution_count": 13,
   "metadata": {},
   "outputs": [],
   "source": [
    "a = np.ones(size)\n",
    "b = np.ones(size)\n",
    "c = np.ones(size)\n",
    "\n",
    "def operation(i, j):\n",
    "    return i+j\n",
    "\n",
    "def func_cpu(a, b):\n",
    "    res = np.ones(size)\n",
    "    for i in range(size):\n",
    "        res[i] = operation(a[i], b[i])\n",
    "    return res\n",
    "c = func_cpu(a, b)"
   ]
  },
  {
   "cell_type": "code",
   "execution_count": 14,
   "metadata": {},
   "outputs": [
    {
     "name": "stdout",
     "output_type": "stream",
     "text": [
      "3.85 ms ± 22.7 µs per loop (mean ± std. dev. of 7 runs, 100 loops each)\n"
     ]
    }
   ],
   "source": [
    "%timeit func_cpu(a, b)"
   ]
  },
  {
   "cell_type": "code",
   "execution_count": 15,
   "metadata": {},
   "outputs": [],
   "source": [
    "from numba import jit\n",
    "a = np.ones((size))\n",
    "b = np.ones((size))\n",
    "c = np.ones((size))\n",
    "\n",
    "@jit\n",
    "def operation(i, j):\n",
    "    return i+j\n",
    "\n",
    "@jit\n",
    "def func_jit(a, b):\n",
    "    res = np.ones((size))\n",
    "\n",
    "    for i in range(size):\n",
    "        res[i] = operation(a[i], b[i])\n",
    "    return res\n",
    "\n",
    "c = func_jit(a, b)"
   ]
  },
  {
   "cell_type": "code",
   "execution_count": 16,
   "metadata": {},
   "outputs": [
    {
     "name": "stdout",
     "output_type": "stream",
     "text": [
      "4.68 µs ± 19 ns per loop (mean ± std. dev. of 7 runs, 100000 loops each)\n"
     ]
    }
   ],
   "source": [
    "%timeit func_jit(a, b)"
   ]
  },
  {
   "cell_type": "code",
   "execution_count": 17,
   "metadata": {},
   "outputs": [
    {
     "name": "stdout",
     "output_type": "stream",
     "text": [
      "<Managed Device 0>\n",
      "Blocks per grid: 313\n",
      "Threads per block 32\n"
     ]
    }
   ],
   "source": [
    "from numba import cuda\n",
    "print(cuda.gpus)\n",
    "\n",
    "device = cuda.get_current_device()\n",
    "tpb = device.WARP_SIZE\n",
    "\n",
    "bpg = int(np.ceil(float(size)/tpb))\n",
    "print('Blocks per grid:', bpg)\n",
    "print('Threads per block', tpb)"
   ]
  },
  {
   "cell_type": "code",
   "execution_count": 20,
   "metadata": {
    "scrolled": true
   },
   "outputs": [],
   "source": [
    "a = np.ones((size))\n",
    "b = np.ones((size))\n",
    "c = np.ones((size))\n",
    "\n",
    "@cuda.jit('void(f8[:],f8[:],f8[:])')\n",
    "def kernel(a, b, c):\n",
    "    i = cuda.grid(1)\n",
    "    c[i] = a[i]+b[i]\n",
    "\n",
    "\n",
    "def func_cuda(a, b, c):\n",
    "    kernel[bpg, tpb](a, b, c)   \n",
    "    res = c.copy_to_host()\n",
    "    return res\n",
    "\n",
    "device = cuda.get_current_device()\n",
    "\n",
    "da = cuda.to_device(a)\n",
    "db = cuda.to_device(b)\n",
    "dc = cuda.device_array_like(c)\n",
    "\n",
    "c = func_cuda(da, db, dc)\n"
   ]
  },
  {
   "cell_type": "code",
   "execution_count": 21,
   "metadata": {},
   "outputs": [
    {
     "name": "stdout",
     "output_type": "stream",
     "text": [
      "188 µs ± 2.96 µs per loop (mean ± std. dev. of 7 runs, 10000 loops each)\n"
     ]
    }
   ],
   "source": [
    "%timeit func_cuda(da, db, dc)"
   ]
  }
 ],
 "metadata": {
  "kernelspec": {
   "display_name": "Python 3",
   "language": "python",
   "name": "python3"
  },
  "language_info": {
   "codemirror_mode": {
    "name": "ipython",
    "version": 3
   },
   "file_extension": ".py",
   "mimetype": "text/x-python",
   "name": "python",
   "nbconvert_exporter": "python",
   "pygments_lexer": "ipython3",
   "version": "3.8.3-final"
  }
 },
 "nbformat": 4,
 "nbformat_minor": 4
}