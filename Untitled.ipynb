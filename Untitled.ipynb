{
 "cells": [
  {
   "cell_type": "code",
   "execution_count": 6,
   "metadata": {},
   "outputs": [],
   "source": [
    "!conda activate cuda_tut"
   ]
  },
  {
   "cell_type": "code",
   "execution_count": 7,
   "metadata": {},
   "outputs": [
    {
     "name": "stdout",
     "output_type": "stream",
     "text": [
      "# conda environments:\n",
      "#\n",
      "sherlock                 C:\\Users\\reza.bonyadi\\.conda\\envs\\sherlock\n",
      "base                  *  C:\\Users\\reza.bonyadi\\Anaconda3\n",
      "cuda_tut                 C:\\Users\\reza.bonyadi\\Anaconda3\\envs\\cuda_tut\n",
      "dash_ex                  C:\\Users\\reza.bonyadi\\Anaconda3\\envs\\dash_ex\n",
      "finance                  C:\\Users\\reza.bonyadi\\Anaconda3\\envs\\finance\n",
      "finance_dashboard        C:\\Users\\reza.bonyadi\\Anaconda3\\envs\\finance_dashboard\n",
      "journal_dashboard        C:\\Users\\reza.bonyadi\\Anaconda3\\envs\\journal_dashboard\n",
      "                         C:\\Users\\reza.bonyadi\\AppData\\Local\\Orange\n",
      "\n"
     ]
    }
   ],
   "source": [
    "!conda env list"
   ]
  },
  {
   "cell_type": "code",
   "execution_count": null,
   "metadata": {},
   "outputs": [],
   "source": [
    "import numba"
   ]
  }
 ],
 "metadata": {
  "kernelspec": {
   "display_name": "Python 3",
   "language": "python",
   "name": "python3"
  },
  "language_info": {
   "codemirror_mode": {
    "name": "ipython",
    "version": 3
   },
   "file_extension": ".py",
   "mimetype": "text/x-python",
   "name": "python",
   "nbconvert_exporter": "python",
   "pygments_lexer": "ipython3",
   "version": "3.7.6"
  }
 },
 "nbformat": 4,
 "nbformat_minor": 4
}
